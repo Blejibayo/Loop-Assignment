{
 "cells": [
  {
   "cell_type": "markdown",
   "id": "44188662-a50e-48f2-867f-4c2166cd0d76",
   "metadata": {},
   "source": [
    "<h2>LOOP<h2>"
   ]
  },
  {
   "cell_type": "code",
   "execution_count": 1,
   "id": "9de69231-4199-4a8a-8cd3-313693609879",
   "metadata": {},
   "outputs": [
    {
     "name": "stdout",
     "output_type": "stream",
     "text": [
      "0\n",
      "1\n",
      "2\n",
      "3\n",
      "4\n",
      "5\n",
      "6\n",
      "7\n",
      "8\n",
      "9\n",
      "10\n",
      "11\n",
      "12\n",
      "13\n",
      "14\n",
      "15\n",
      "16\n",
      "17\n",
      "18\n",
      "19\n",
      "20\n",
      "21\n",
      "22\n",
      "23\n",
      "24\n",
      "25\n",
      "26\n",
      "27\n",
      "28\n",
      "29\n",
      "30\n",
      "31\n",
      "32\n",
      "33\n",
      "34\n",
      "35\n",
      "36\n",
      "37\n",
      "38\n",
      "39\n",
      "40\n",
      "41\n",
      "42\n",
      "43\n",
      "44\n",
      "45\n",
      "46\n",
      "47\n",
      "48\n",
      "49\n",
      "50\n",
      "51\n",
      "52\n",
      "53\n",
      "54\n",
      "55\n",
      "56\n",
      "57\n",
      "58\n",
      "59\n",
      "60\n",
      "61\n",
      "62\n",
      "63\n",
      "64\n",
      "65\n",
      "66\n",
      "67\n",
      "68\n",
      "69\n",
      "70\n",
      "71\n",
      "72\n",
      "73\n",
      "74\n",
      "75\n",
      "76\n",
      "77\n",
      "78\n",
      "79\n",
      "80\n",
      "81\n",
      "82\n",
      "83\n",
      "84\n",
      "85\n",
      "86\n",
      "87\n",
      "88\n",
      "89\n",
      "90\n",
      "91\n",
      "92\n",
      "93\n",
      "94\n",
      "95\n",
      "96\n",
      "97\n",
      "98\n",
      "99\n"
     ]
    }
   ],
   "source": [
    "for i in range(100):\n",
    "    print(i)"
   ]
  },
  {
   "cell_type": "code",
   "execution_count": 2,
   "id": "c5e0f9db-8092-4d51-9539-c727588ef021",
   "metadata": {},
   "outputs": [
    {
     "name": "stdout",
     "output_type": "stream",
     "text": [
      "0\n",
      "2\n",
      "4\n",
      "6\n",
      "8\n",
      "10\n",
      "12\n",
      "14\n",
      "16\n",
      "18\n",
      "20\n",
      "22\n",
      "24\n",
      "26\n",
      "28\n",
      "30\n",
      "32\n",
      "34\n",
      "36\n",
      "38\n",
      "40\n",
      "42\n",
      "44\n",
      "46\n",
      "48\n",
      "50\n",
      "52\n",
      "54\n",
      "56\n",
      "58\n",
      "60\n",
      "62\n",
      "64\n",
      "66\n",
      "68\n",
      "70\n",
      "72\n",
      "74\n",
      "76\n",
      "78\n",
      "80\n",
      "82\n",
      "84\n",
      "86\n",
      "88\n",
      "90\n",
      "92\n",
      "94\n",
      "96\n",
      "98\n",
      "100\n"
     ]
    }
   ],
   "source": [
    "for i in range (101):\n",
    "    if i % 2 ==0:\n",
    "        print(i)"
   ]
  },
  {
   "cell_type": "code",
   "execution_count": 3,
   "id": "dc13f5db-390f-4784-a2a4-ddab3cdee90f",
   "metadata": {},
   "outputs": [
    {
     "name": "stdout",
     "output_type": "stream",
     "text": [
      "1\n",
      "3\n",
      "5\n",
      "7\n",
      "9\n",
      "11\n",
      "13\n",
      "15\n",
      "17\n",
      "19\n",
      "21\n",
      "23\n",
      "25\n",
      "27\n",
      "29\n",
      "31\n",
      "33\n",
      "35\n",
      "37\n",
      "39\n",
      "41\n",
      "43\n",
      "45\n",
      "47\n",
      "49\n",
      "51\n",
      "53\n",
      "55\n",
      "57\n",
      "59\n",
      "61\n",
      "63\n",
      "65\n",
      "67\n",
      "69\n",
      "71\n",
      "73\n",
      "75\n",
      "77\n",
      "79\n",
      "81\n",
      "83\n",
      "85\n",
      "87\n",
      "89\n",
      "91\n",
      "93\n",
      "95\n",
      "97\n",
      "99\n"
     ]
    }
   ],
   "source": [
    "for i in range(1, 100):\n",
    "    if i % 2!=0:\n",
    "        print(i)"
   ]
  },
  {
   "cell_type": "code",
   "execution_count": 4,
   "id": "b3b00edb-9a2a-4fac-aa89-e37e927ca506",
   "metadata": {},
   "outputs": [
    {
     "name": "stdout",
     "output_type": "stream",
     "text": [
      "1\n",
      "3\n",
      "5\n",
      "7\n",
      "9\n",
      "11\n",
      "13\n",
      "15\n",
      "17\n",
      "19\n",
      "21\n",
      "23\n",
      "25\n",
      "27\n",
      "29\n",
      "31\n",
      "33\n",
      "35\n",
      "37\n",
      "39\n",
      "41\n",
      "43\n",
      "45\n",
      "47\n",
      "49\n",
      "51\n",
      "53\n",
      "55\n",
      "57\n",
      "59\n",
      "61\n",
      "63\n",
      "65\n",
      "67\n",
      "69\n",
      "71\n",
      "73\n",
      "75\n",
      "77\n",
      "79\n",
      "81\n",
      "83\n",
      "85\n",
      "87\n",
      "89\n",
      "91\n",
      "93\n",
      "95\n",
      "97\n",
      "99\n"
     ]
    }
   ],
   "source": [
    "for i in range (1,101,2):\n",
    "    print(i)"
   ]
  },
  {
   "cell_type": "code",
   "execution_count": 5,
   "id": "772b00c6-63a2-48f8-a9a6-22e6273ab607",
   "metadata": {},
   "outputs": [],
   "source": [
    "f=[i for i in range (1,100,2)]"
   ]
  },
  {
   "cell_type": "code",
   "execution_count": 6,
   "id": "d943931f-776f-4ec6-b4cc-87b5dc52a357",
   "metadata": {},
   "outputs": [
    {
     "data": {
      "text/plain": [
       "[1,\n",
       " 3,\n",
       " 5,\n",
       " 7,\n",
       " 9,\n",
       " 11,\n",
       " 13,\n",
       " 15,\n",
       " 17,\n",
       " 19,\n",
       " 21,\n",
       " 23,\n",
       " 25,\n",
       " 27,\n",
       " 29,\n",
       " 31,\n",
       " 33,\n",
       " 35,\n",
       " 37,\n",
       " 39,\n",
       " 41,\n",
       " 43,\n",
       " 45,\n",
       " 47,\n",
       " 49,\n",
       " 51,\n",
       " 53,\n",
       " 55,\n",
       " 57,\n",
       " 59,\n",
       " 61,\n",
       " 63,\n",
       " 65,\n",
       " 67,\n",
       " 69,\n",
       " 71,\n",
       " 73,\n",
       " 75,\n",
       " 77,\n",
       " 79,\n",
       " 81,\n",
       " 83,\n",
       " 85,\n",
       " 87,\n",
       " 89,\n",
       " 91,\n",
       " 93,\n",
       " 95,\n",
       " 97,\n",
       " 99]"
      ]
     },
     "execution_count": 6,
     "metadata": {},
     "output_type": "execute_result"
    }
   ],
   "source": [
    "f"
   ]
  },
  {
   "cell_type": "code",
   "execution_count": 7,
   "id": "1691a341-de8c-433d-92f6-a1cabb6f68f4",
   "metadata": {},
   "outputs": [],
   "source": [
    "f=i"
   ]
  },
  {
   "cell_type": "code",
   "execution_count": 8,
   "id": "ce6f129b-6a94-4bca-9900-4843a8e99a01",
   "metadata": {},
   "outputs": [
    {
     "data": {
      "text/plain": [
       "99"
      ]
     },
     "execution_count": 8,
     "metadata": {},
     "output_type": "execute_result"
    }
   ],
   "source": [
    "f"
   ]
  },
  {
   "cell_type": "code",
   "execution_count": 9,
   "id": "5f6ff680-bee5-4b86-b365-7636f1db08d3",
   "metadata": {},
   "outputs": [],
   "source": [
    "f=[i for i in range(0,100,2)]"
   ]
  },
  {
   "cell_type": "code",
   "execution_count": 10,
   "id": "e4f9f3b2-f144-4bc3-a76e-838d40865be8",
   "metadata": {},
   "outputs": [
    {
     "data": {
      "text/plain": [
       "[0,\n",
       " 2,\n",
       " 4,\n",
       " 6,\n",
       " 8,\n",
       " 10,\n",
       " 12,\n",
       " 14,\n",
       " 16,\n",
       " 18,\n",
       " 20,\n",
       " 22,\n",
       " 24,\n",
       " 26,\n",
       " 28,\n",
       " 30,\n",
       " 32,\n",
       " 34,\n",
       " 36,\n",
       " 38,\n",
       " 40,\n",
       " 42,\n",
       " 44,\n",
       " 46,\n",
       " 48,\n",
       " 50,\n",
       " 52,\n",
       " 54,\n",
       " 56,\n",
       " 58,\n",
       " 60,\n",
       " 62,\n",
       " 64,\n",
       " 66,\n",
       " 68,\n",
       " 70,\n",
       " 72,\n",
       " 74,\n",
       " 76,\n",
       " 78,\n",
       " 80,\n",
       " 82,\n",
       " 84,\n",
       " 86,\n",
       " 88,\n",
       " 90,\n",
       " 92,\n",
       " 94,\n",
       " 96,\n",
       " 98]"
      ]
     },
     "execution_count": 10,
     "metadata": {},
     "output_type": "execute_result"
    }
   ],
   "source": [
    "f"
   ]
  },
  {
   "cell_type": "code",
   "execution_count": 11,
   "id": "4b1290c6-04d1-4720-9e52-e1d7ceadf8a1",
   "metadata": {},
   "outputs": [
    {
     "data": {
      "text/plain": [
       "[0, 2, 4, 6, 8, 10, 12, 14, 16, 18, 20]"
      ]
     },
     "execution_count": 11,
     "metadata": {},
     "output_type": "execute_result"
    }
   ],
   "source": [
    "d=[]\n",
    "for i in f:\n",
    "    if i<=20:\n",
    "        d.append(i)\n",
    "d\n",
    "    "
   ]
  },
  {
   "cell_type": "code",
   "execution_count": 12,
   "id": "f55a4967-fd4b-4027-b103-803e4f9216e0",
   "metadata": {},
   "outputs": [
    {
     "name": "stdout",
     "output_type": "stream",
     "text": [
      "0\n",
      "2\n",
      "4\n",
      "6\n",
      "8\n",
      "10\n",
      "12\n",
      "14\n",
      "16\n",
      "18\n"
     ]
    }
   ],
   "source": [
    "for i in f:\n",
    "    if i==20:\n",
    "        break\n",
    "    print(i)"
   ]
  },
  {
   "cell_type": "code",
   "execution_count": 13,
   "id": "0aa5ef68-c65c-4584-9322-c39a56d62f57",
   "metadata": {},
   "outputs": [
    {
     "name": "stdout",
     "output_type": "stream",
     "text": [
      "0\n",
      "2\n",
      "4\n",
      "6\n",
      "8\n",
      "10\n",
      "12\n",
      "14\n",
      "16\n",
      "18\n",
      "22\n",
      "24\n",
      "26\n",
      "28\n",
      "30\n",
      "32\n",
      "34\n",
      "36\n",
      "38\n",
      "40\n",
      "42\n",
      "44\n",
      "46\n",
      "48\n",
      "50\n",
      "52\n",
      "54\n",
      "56\n",
      "58\n",
      "60\n",
      "62\n",
      "64\n",
      "66\n",
      "68\n",
      "70\n",
      "72\n",
      "74\n",
      "76\n",
      "78\n",
      "80\n",
      "82\n",
      "84\n",
      "86\n",
      "88\n",
      "90\n",
      "92\n",
      "94\n",
      "96\n",
      "98\n"
     ]
    }
   ],
   "source": [
    "for i in f:\n",
    "    if i==20:\n",
    "        continue\n",
    "    print(i)"
   ]
  },
  {
   "cell_type": "code",
   "execution_count": 14,
   "id": "176c41ab-9292-4c36-bb55-93f0716687b7",
   "metadata": {},
   "outputs": [],
   "source": [
    "f=[i for i in range(0,40,2)]"
   ]
  },
  {
   "cell_type": "code",
   "execution_count": 15,
   "id": "ddf09a14-a794-4733-a0c5-f590c39c9984",
   "metadata": {},
   "outputs": [
    {
     "data": {
      "text/plain": [
       "[0, 2, 4, 6, 8, 10, 12, 14, 16, 18, 20, 22, 24, 26, 28, 30, 32, 34, 36, 38]"
      ]
     },
     "execution_count": 15,
     "metadata": {},
     "output_type": "execute_result"
    }
   ],
   "source": [
    "f"
   ]
  },
  {
   "cell_type": "code",
   "execution_count": 16,
   "id": "d9a2ef50-46dd-46ad-9e6d-270c1393c1aa",
   "metadata": {},
   "outputs": [
    {
     "name": "stdout",
     "output_type": "stream",
     "text": [
      "0\n",
      "2\n",
      "4\n",
      "6\n",
      "8\n",
      "10\n",
      "12\n",
      "14\n",
      "16\n",
      "18\n",
      "22\n",
      "24\n",
      "26\n",
      "28\n",
      "30\n",
      "32\n",
      "34\n",
      "36\n",
      "38\n"
     ]
    }
   ],
   "source": [
    "for i in f:\n",
    "    if i==20:\n",
    "        continue\n",
    "    print(i)"
   ]
  },
  {
   "cell_type": "code",
   "execution_count": 17,
   "id": "35ac7e5e-7f93-47fa-9490-c770477eabc0",
   "metadata": {},
   "outputs": [
    {
     "name": "stdout",
     "output_type": "stream",
     "text": [
      "[0, 2, 4, 6, 8, 10, 12, 14, 16, 18]\n"
     ]
    }
   ],
   "source": [
    "g= []\n",
    "for i in f:\n",
    "    if i == 20:\n",
    "        break \n",
    "    g.append(i)\n",
    "print (g)"
   ]
  },
  {
   "cell_type": "code",
   "execution_count": 18,
   "id": "2bc66744-7a67-47c3-bd0f-74605d01a90f",
   "metadata": {},
   "outputs": [],
   "source": [
    "f=[i for i in range (30)]"
   ]
  },
  {
   "cell_type": "code",
   "execution_count": 19,
   "id": "7fd4a4fd-3a18-46ba-a335-bfc4c0c45722",
   "metadata": {},
   "outputs": [
    {
     "data": {
      "text/plain": [
       "[0,\n",
       " 1,\n",
       " 2,\n",
       " 3,\n",
       " 4,\n",
       " 5,\n",
       " 6,\n",
       " 7,\n",
       " 8,\n",
       " 9,\n",
       " 10,\n",
       " 11,\n",
       " 12,\n",
       " 13,\n",
       " 14,\n",
       " 15,\n",
       " 16,\n",
       " 17,\n",
       " 18,\n",
       " 19,\n",
       " 20,\n",
       " 21,\n",
       " 22,\n",
       " 23,\n",
       " 24,\n",
       " 25,\n",
       " 26,\n",
       " 27,\n",
       " 28,\n",
       " 29]"
      ]
     },
     "execution_count": 19,
     "metadata": {},
     "output_type": "execute_result"
    }
   ],
   "source": [
    "f"
   ]
  },
  {
   "cell_type": "code",
   "execution_count": 20,
   "id": "32530260-fc6a-43dd-97cc-27bdb25c3d1d",
   "metadata": {},
   "outputs": [
    {
     "name": "stdout",
     "output_type": "stream",
     "text": [
      "2\n",
      "4\n",
      "6\n",
      "8\n",
      "10\n",
      "12\n",
      "14\n",
      "16\n",
      "18\n",
      "20\n",
      "22\n",
      "24\n",
      "26\n",
      "28\n",
      "30\n"
     ]
    }
   ],
   "source": [
    "for x in f:\n",
    "    if x % 2==0:\n",
    "        y = x+2\n",
    "        print (y)"
   ]
  },
  {
   "cell_type": "code",
   "execution_count": 21,
   "id": "e8849dd9-a504-45a0-bd36-22e6c731f1b5",
   "metadata": {},
   "outputs": [
    {
     "name": "stdout",
     "output_type": "stream",
     "text": [
      "2\n",
      "4\n",
      "6\n",
      "8\n",
      "10\n",
      "12\n",
      "14\n",
      "16\n",
      "18\n",
      "20\n",
      "22\n",
      "24\n",
      "26\n",
      "28\n",
      "30\n"
     ]
    }
   ],
   "source": [
    "for x in f:\n",
    "    if x % 2==0:\n",
    "        x+=2\n",
    "        print (x)"
   ]
  },
  {
   "cell_type": "markdown",
   "id": "a44d9f0c-7d33-4b65-8e64-ba8420c20345",
   "metadata": {},
   "source": [
    "<h2>While loop <h2>"
   ]
  },
  {
   "cell_type": "code",
   "execution_count": 22,
   "id": "afcff571-8606-4379-9929-1cf288fec1b7",
   "metadata": {},
   "outputs": [
    {
     "name": "stdout",
     "output_type": "stream",
     "text": [
      "0\n",
      "1\n",
      "2\n",
      "3\n",
      "4\n",
      "5\n",
      "6\n",
      "7\n",
      "8\n",
      "9\n",
      "10\n",
      "11\n",
      "12\n",
      "13\n",
      "14\n",
      "15\n",
      "16\n",
      "17\n",
      "18\n",
      "19\n",
      "20\n"
     ]
    }
   ],
   "source": [
    "i=0\n",
    "while i<21:\n",
    "    print (i)\n",
    "    i=i+1"
   ]
  },
  {
   "cell_type": "code",
   "execution_count": 23,
   "id": "95ee50d1-3041-4e90-ad09-84c2a3886290",
   "metadata": {},
   "outputs": [
    {
     "name": "stdout",
     "output_type": "stream",
     "text": [
      "0\n",
      "2\n",
      "4\n",
      "6\n",
      "8\n",
      "10\n",
      "12\n",
      "14\n",
      "16\n",
      "18\n",
      "20\n"
     ]
    }
   ],
   "source": [
    "i=0\n",
    "while i<21:\n",
    "    print (i)\n",
    "    i=i+2"
   ]
  },
  {
   "cell_type": "code",
   "execution_count": 24,
   "id": "c3d9e73d-40b9-4f20-adb0-917ceb92b677",
   "metadata": {},
   "outputs": [
    {
     "name": "stdout",
     "output_type": "stream",
     "text": [
      "0\n",
      "4\n",
      "8\n",
      "12\n",
      "16\n",
      "20\n"
     ]
    }
   ],
   "source": [
    "i=0\n",
    "while i<21:\n",
    "    print (i)\n",
    "    i=i+4"
   ]
  },
  {
   "cell_type": "code",
   "execution_count": 25,
   "id": "b04f2964-513b-4797-af0a-5426dbeef6c0",
   "metadata": {},
   "outputs": [
    {
     "name": "stdout",
     "output_type": "stream",
     "text": [
      "0\n",
      "2\n",
      "4\n",
      "6\n",
      "8\n",
      "10\n",
      "12\n",
      "14\n",
      "16\n",
      "18\n",
      "20\n"
     ]
    }
   ],
   "source": [
    "i=0\n",
    "while i<21:\n",
    "    if i%2 ==0:\n",
    "        print (i)\n",
    "    i=i+1"
   ]
  },
  {
   "cell_type": "code",
   "execution_count": 26,
   "id": "529e7308-d79f-497f-b05c-d8130867f0f4",
   "metadata": {},
   "outputs": [],
   "source": [
    "def add():\n",
    "    x=9\n",
    "    y=10\n",
    "    result= x+y\n",
    "    return result"
   ]
  },
  {
   "cell_type": "code",
   "execution_count": 27,
   "id": "2add194c-1c66-4d07-a403-5de184ba326e",
   "metadata": {},
   "outputs": [
    {
     "data": {
      "text/plain": [
       "19"
      ]
     },
     "execution_count": 27,
     "metadata": {},
     "output_type": "execute_result"
    }
   ],
   "source": [
    "add()"
   ]
  },
  {
   "cell_type": "code",
   "execution_count": 28,
   "id": "a03465ba-2ad4-437d-9275-85043ae501c9",
   "metadata": {},
   "outputs": [],
   "source": [
    "def dd(x,y):\n",
    "    return (x+y)"
   ]
  },
  {
   "cell_type": "code",
   "execution_count": 29,
   "id": "900b73b2-f4d2-483c-bc8f-d3fc1a84e22b",
   "metadata": {},
   "outputs": [
    {
     "data": {
      "text/plain": [
       "15"
      ]
     },
     "execution_count": 29,
     "metadata": {},
     "output_type": "execute_result"
    }
   ],
   "source": [
    "dd(5,10)"
   ]
  },
  {
   "cell_type": "code",
   "execution_count": 30,
   "id": "1ff29960-e963-431e-8e7e-ccf39942cea4",
   "metadata": {},
   "outputs": [],
   "source": [
    "def area (r, pi=3.142):\n",
    "    return pi*r**2"
   ]
  },
  {
   "cell_type": "code",
   "execution_count": 31,
   "id": "6d0a4bfa-1dd0-4f0b-8c12-179d9158bcc3",
   "metadata": {},
   "outputs": [
    {
     "data": {
      "text/plain": [
       "78.55"
      ]
     },
     "execution_count": 31,
     "metadata": {},
     "output_type": "execute_result"
    }
   ],
   "source": [
    "area(5)"
   ]
  },
  {
   "cell_type": "code",
   "execution_count": 32,
   "id": "dadad134-c2ae-4b48-aad3-f6cfc624daee",
   "metadata": {},
   "outputs": [
    {
     "data": {
      "text/plain": [
       "100"
      ]
     },
     "execution_count": 32,
     "metadata": {},
     "output_type": "execute_result"
    }
   ],
   "source": [
    "area(5,4)"
   ]
  },
  {
   "cell_type": "code",
   "execution_count": 33,
   "id": "81fe02ba-cf80-441b-8a64-c52a3a956fc7",
   "metadata": {},
   "outputs": [],
   "source": [
    "def area (r, pi=3.142):\n",
    "    print (f\"The Area of the circle is {pi*r**2}\")"
   ]
  },
  {
   "cell_type": "code",
   "execution_count": 34,
   "id": "782b241b-5ecd-47b8-ac28-ca7ff286b573",
   "metadata": {},
   "outputs": [
    {
     "name": "stdout",
     "output_type": "stream",
     "text": [
      "The Area of the circle is 78.55\n"
     ]
    }
   ],
   "source": [
    "area(5)"
   ]
  },
  {
   "cell_type": "code",
   "execution_count": null,
   "id": "fcb77845-5315-4725-b154-143dc47b4362",
   "metadata": {},
   "outputs": [],
   "source": []
  },
  {
   "cell_type": "code",
   "execution_count": 38,
   "id": "bcf45ee5-3fac-4cfb-a4cd-2c6d0963cec4",
   "metadata": {},
   "outputs": [],
   "source": [
    "def database():\n",
    "    print (\"Hello welcome to harvard,kindly create an account\")\n",
    "    account =dict()\n",
    "    username =str(input(\"Enter your preffered username\"))\n",
    "    password =str(input(\"Enter your choice of password\"))\n",
    "    account [username]=password\n",
    "    return account"
   ]
  },
  {
   "cell_type": "code",
   "execution_count": 39,
   "id": "87173c0f-1544-421b-9f55-302eb3c8ba97",
   "metadata": {},
   "outputs": [
    {
     "name": "stdout",
     "output_type": "stream",
     "text": [
      "Hello welcome to harvard,kindly create an account\n"
     ]
    },
    {
     "name": "stdin",
     "output_type": "stream",
     "text": [
      "Enter your preffered username blejibayo\n",
      "Enter your choice of password 2345\n"
     ]
    }
   ],
   "source": [
    "d=database()"
   ]
  },
  {
   "cell_type": "code",
   "execution_count": 40,
   "id": "6b1a3af6-cf85-4b10-9509-5cbdb40a7158",
   "metadata": {},
   "outputs": [
    {
     "data": {
      "text/plain": [
       "{'blejibayo': '2345'}"
      ]
     },
     "execution_count": 40,
     "metadata": {},
     "output_type": "execute_result"
    }
   ],
   "source": [
    "d"
   ]
  },
  {
   "cell_type": "code",
   "execution_count": null,
   "id": "349df648-913a-486c-a743-b34699db73e3",
   "metadata": {},
   "outputs": [],
   "source": [
    "\n",
    "\n",
    "def login():\n",
    "    account=d \n",
    "    name = str(input(\"what is your name?\"))\n",
    "    print (f\"hello {name} kindly enter your username and password\")\n",
    "    username = str(input(\"Username\"))\n",
    "    password = str(input(\"Password\"))\n",
    "    if username in account.keys() and password ==account[username]:\n",
    "        print (\"Login in successful\")\n",
    "    else print (\"invalid credentials\")\n",
    "\n",
    "def decision():\n",
    "    name=str(input('what is your name?')) \n",
    "    age=int(input('how old are you?'))\n",
    "    if age>=0 and age<=10:\n",
    "        print(f\"hello {name}, you are {age} years old and you should be in primary school\")\n",
    "    elif age>10 and age<=18:\n",
    "        print(f\"hello {name}, you are {age} years old as such you should be in secondary school\")\n",
    "    elif age>18 and age<23:\n",
    "        print(f\"hello {name}, you are {age} years old as such you should be in high institution\")\n",
    "    elif age>=23 and age<30:\n",
    "        children=int(input(\"how many children do you have?\"))\n",
    "        if children>3:\n",
    "            print(f\"hello {name}, you are {age} years old,you have{children}numbers of children as such you should not go for masters\") \n",
    "        else:\n",
    "            print(f\"hello {name},you are {age} years old,you have{children}number of children as such you can go for masters\")\n",
    "    else:\n",
    "        print(f\"hello{name},you are {age} years old as such you should go for your Ph.D\")\n",
    "        \n",
    "\n"
   ]
  },
  {
   "cell_type": "code",
   "execution_count": null,
   "id": "8f638475-4df3-4956-b03e-400529ff49de",
   "metadata": {},
   "outputs": [],
   "source": []
  },
  {
   "cell_type": "code",
   "execution_count": 35,
   "id": "c9074477-8b23-417a-9dd0-41db362a00d2",
   "metadata": {},
   "outputs": [],
   "source": [
    "u={\"sage\" : 32434, \"mike\" : \"453sd\"}"
   ]
  },
  {
   "cell_type": "code",
   "execution_count": 36,
   "id": "638c52ff-7f3f-4b47-af7b-7d1fc111221b",
   "metadata": {},
   "outputs": [
    {
     "data": {
      "text/plain": [
       "{'sage': 32434, 'mike': '453sd'}"
      ]
     },
     "execution_count": 36,
     "metadata": {},
     "output_type": "execute_result"
    }
   ],
   "source": [
    "u"
   ]
  },
  {
   "cell_type": "code",
   "execution_count": 37,
   "id": "3488c8e1-329a-456b-b920-77ed7682a295",
   "metadata": {},
   "outputs": [
    {
     "data": {
      "text/plain": [
       "True"
      ]
     },
     "execution_count": 37,
     "metadata": {},
     "output_type": "execute_result"
    }
   ],
   "source": [
    "\"sage\" in u.keys()"
   ]
  },
  {
   "cell_type": "code",
   "execution_count": null,
   "id": "bc51ebad-f7cf-4f0a-99fd-f6c895680e1e",
   "metadata": {},
   "outputs": [],
   "source": []
  }
 ],
 "metadata": {
  "kernelspec": {
   "display_name": "Python 3 (ipykernel)",
   "language": "python",
   "name": "python3"
  },
  "language_info": {
   "codemirror_mode": {
    "name": "ipython",
    "version": 3
   },
   "file_extension": ".py",
   "mimetype": "text/x-python",
   "name": "python",
   "nbconvert_exporter": "python",
   "pygments_lexer": "ipython3",
   "version": "3.11.7"
  }
 },
 "nbformat": 4,
 "nbformat_minor": 5
}
